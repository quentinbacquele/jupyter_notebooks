{
 "cells": [
  {
   "cell_type": "code",
   "execution_count": 2,
   "metadata": {},
   "outputs": [],
   "source": [
    "import os\n",
    "import scipy.io.wavfile as wav\n",
    "import pandas as pd\n",
    "import numpy as np\n",
    "import scipy as sp\n",
    "\n",
    "# Load dataset\n",
    "dataset = pd.read_csv('/Users/quentinbacquele/Desktop/Internship/Berkeley/Reunion Gray white-eye/data/pitch_contour_dom.csv')\n",
    "\n",
    "# Parameters\n",
    "Fs = 44100  # sampling frequency\n",
    "window_size = 180\n",
    "fade_length = 500  # length of the fade in and out\n",
    "volume = 0.1 # range [0.0, 1.0]\n",
    "\n",
    "output_dir = '/Users/quentinbacquele/Desktop/Internship/Berkeley/Reunion Gray white-eye/pure_sounds4/'\n",
    "os.makedirs(output_dir, exist_ok=True)\n",
    "\n",
    "def generate_signal(frequencies, Fs, window_size, fade_length, volume):\n",
    "    signal = np.array([])\n",
    "    phase = 0.0  # Initial phase\n",
    "    up_frequencies = sp.signal.resample(frequencies, len(frequencies) * window_size)\n",
    "    t = np.arange(len(up_frequencies))\n",
    "    phase = ((2 * np.pi) * up_frequencies) / Fs\n",
    "    t_phase = np.cumsum(phase)\n",
    "    signal = volume * np.sin(t_phase)\n",
    "\n",
    "    # Apply fade-in\n",
    "    if fade_length > 0 and len(signal) > fade_length:\n",
    "        fade_in = np.linspace(0, 1, fade_length)\n",
    "        signal[:fade_length] *= fade_in\n",
    "\n",
    "    # Apply fade-out\n",
    "    if fade_length > 0 and len(signal) > fade_length:\n",
    "        fade_out = np.linspace(1, 0, fade_length)\n",
    "        signal[-fade_length:] *= fade_out\n",
    "    \n",
    "    return signal\n",
    "\n",
    "def normalize_waveform(waveform, target_dbfs):\n",
    "    rms = np.sqrt(np.mean(waveform**2))\n",
    "    scale = 10**(target_dbfs / 20) / rms\n",
    "    return np.int16(np.clip(waveform * scale, -1, 1) * 32767)\n",
    "\n",
    "target_dbfs = -20 \n",
    "\n",
    "for file_name, group in dataset.groupby('file_name'):\n",
    "    wav_file_path = os.path.join(output_dir, f\"{file_name}\")\n",
    "    frequencies = group['pitch_value'].to_numpy()\n",
    "    sound_wave = generate_signal(frequencies, Fs, window_size, fade_length, volume)\n",
    "\n",
    "    sound_wave_normalized = normalize_waveform(sound_wave, target_dbfs)\n",
    "    wav.write(wav_file_path, Fs, sound_wave_normalized)\n"
   ]
  }
 ],
 "metadata": {
  "kernelspec": {
   "display_name": "soundsig",
   "language": "python",
   "name": "python3"
  },
  "language_info": {
   "codemirror_mode": {
    "name": "ipython",
    "version": 3
   },
   "file_extension": ".py",
   "mimetype": "text/x-python",
   "name": "python",
   "nbconvert_exporter": "python",
   "pygments_lexer": "ipython3",
   "version": "3.9.18"
  }
 },
 "nbformat": 4,
 "nbformat_minor": 2
}
